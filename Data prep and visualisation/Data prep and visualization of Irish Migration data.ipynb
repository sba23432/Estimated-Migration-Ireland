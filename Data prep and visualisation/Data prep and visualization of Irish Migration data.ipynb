{
 "cells": [
  {
   "cell_type": "markdown",
   "id": "f982b7b9",
   "metadata": {},
   "source": [
    "Data preparation and Visualization : (Graded out of 100)\n",
    "1.  You must perform appropriate EDA on your dataset, rationalizing and detailing why you chose the specific methods and what insight you gained. [0-20]\n",
    "\n",
    "2.      You must also rationalise justify and detail all the methods used to prepare the data for ML. [0-30]\n",
    "3.      Appropriate visualizations must be used to engender insight into the dataset and to illustrate your final insights gained in your analysis. [0-20]\n",
    "4.      All design and implementation of your visualizations must be justified and detailed in full., making reference to Tufts Principles [0-30]\n"
   ]
  },
  {
   "cell_type": "code",
   "execution_count": 1,
   "id": "ebff4602",
   "metadata": {},
   "outputs": [],
   "source": [
    "# Load the libraries\n",
    "import numpy as np\n",
    "import matplotlib.pyplot as plt\n",
    "import pandas as pd\n",
    "\n",
    "import warnings\n",
    "warnings.filterwarnings('ignore') # We can suppress the warnings"
   ]
  },
  {
   "cell_type": "markdown",
   "id": "8e8ba06b",
   "metadata": {},
   "source": [
    "# Importing the dataset"
   ]
  },
  {
   "cell_type": "code",
   "execution_count": 2,
   "id": "d1b0c191",
   "metadata": {},
   "outputs": [
    {
     "data": {
      "text/html": [
       "<div>\n",
       "<style scoped>\n",
       "    .dataframe tbody tr th:only-of-type {\n",
       "        vertical-align: middle;\n",
       "    }\n",
       "\n",
       "    .dataframe tbody tr th {\n",
       "        vertical-align: top;\n",
       "    }\n",
       "\n",
       "    .dataframe thead th {\n",
       "        text-align: right;\n",
       "    }\n",
       "</style>\n",
       "<table border=\"1\" class=\"dataframe\">\n",
       "  <thead>\n",
       "    <tr style=\"text-align: right;\">\n",
       "      <th></th>\n",
       "      <th>STATISTIC Label</th>\n",
       "      <th>Year</th>\n",
       "      <th>Age Group</th>\n",
       "      <th>Sex</th>\n",
       "      <th>Inward or Outward Flow</th>\n",
       "      <th>UNIT</th>\n",
       "      <th>VALUE</th>\n",
       "    </tr>\n",
       "  </thead>\n",
       "  <tbody>\n",
       "    <tr>\n",
       "      <th>0</th>\n",
       "      <td>Estimated Migration (Persons in April)</td>\n",
       "      <td>1987</td>\n",
       "      <td>All ages</td>\n",
       "      <td>Both sexes</td>\n",
       "      <td>Net migration</td>\n",
       "      <td>Thousand</td>\n",
       "      <td>-23.0</td>\n",
       "    </tr>\n",
       "    <tr>\n",
       "      <th>1</th>\n",
       "      <td>Estimated Migration (Persons in April)</td>\n",
       "      <td>1987</td>\n",
       "      <td>All ages</td>\n",
       "      <td>Both sexes</td>\n",
       "      <td>Emigrants: All destinations</td>\n",
       "      <td>Thousand</td>\n",
       "      <td>40.2</td>\n",
       "    </tr>\n",
       "    <tr>\n",
       "      <th>2</th>\n",
       "      <td>Estimated Migration (Persons in April)</td>\n",
       "      <td>1987</td>\n",
       "      <td>All ages</td>\n",
       "      <td>Both sexes</td>\n",
       "      <td>Immigrants: All origins</td>\n",
       "      <td>Thousand</td>\n",
       "      <td>17.2</td>\n",
       "    </tr>\n",
       "    <tr>\n",
       "      <th>3</th>\n",
       "      <td>Estimated Migration (Persons in April)</td>\n",
       "      <td>1987</td>\n",
       "      <td>All ages</td>\n",
       "      <td>Male</td>\n",
       "      <td>Net migration</td>\n",
       "      <td>Thousand</td>\n",
       "      <td>NaN</td>\n",
       "    </tr>\n",
       "    <tr>\n",
       "      <th>4</th>\n",
       "      <td>Estimated Migration (Persons in April)</td>\n",
       "      <td>1987</td>\n",
       "      <td>All ages</td>\n",
       "      <td>Male</td>\n",
       "      <td>Emigrants: All destinations</td>\n",
       "      <td>Thousand</td>\n",
       "      <td>NaN</td>\n",
       "    </tr>\n",
       "  </tbody>\n",
       "</table>\n",
       "</div>"
      ],
      "text/plain": [
       "                          STATISTIC Label  Year Age Group         Sex  \\\n",
       "0  Estimated Migration (Persons in April)  1987  All ages  Both sexes   \n",
       "1  Estimated Migration (Persons in April)  1987  All ages  Both sexes   \n",
       "2  Estimated Migration (Persons in April)  1987  All ages  Both sexes   \n",
       "3  Estimated Migration (Persons in April)  1987  All ages        Male   \n",
       "4  Estimated Migration (Persons in April)  1987  All ages        Male   \n",
       "\n",
       "        Inward or Outward Flow      UNIT  VALUE  \n",
       "0                Net migration  Thousand  -23.0  \n",
       "1  Emigrants: All destinations  Thousand   40.2  \n",
       "2      Immigrants: All origins  Thousand   17.2  \n",
       "3                Net migration  Thousand    NaN  \n",
       "4  Emigrants: All destinations  Thousand    NaN  "
      ]
     },
     "execution_count": 2,
     "metadata": {},
     "output_type": "execute_result"
    }
   ],
   "source": [
    "# Load migration data.csv file into dataframe (df)\n",
    "df = pd.read_csv('Migration data.csv')\n",
    "\n",
    "# Display first 5 records\n",
    "df.head()"
   ]
  },
  {
   "cell_type": "code",
   "execution_count": 3,
   "id": "1f79283b",
   "metadata": {},
   "outputs": [
    {
     "data": {
      "text/html": [
       "<div>\n",
       "<style scoped>\n",
       "    .dataframe tbody tr th:only-of-type {\n",
       "        vertical-align: middle;\n",
       "    }\n",
       "\n",
       "    .dataframe tbody tr th {\n",
       "        vertical-align: top;\n",
       "    }\n",
       "\n",
       "    .dataframe thead th {\n",
       "        text-align: right;\n",
       "    }\n",
       "</style>\n",
       "<table border=\"1\" class=\"dataframe\">\n",
       "  <thead>\n",
       "    <tr style=\"text-align: right;\">\n",
       "      <th></th>\n",
       "      <th>STATISTIC Label</th>\n",
       "      <th>Year</th>\n",
       "      <th>Age Group</th>\n",
       "      <th>Sex</th>\n",
       "      <th>Inward or Outward Flow</th>\n",
       "      <th>UNIT</th>\n",
       "      <th>VALUE</th>\n",
       "    </tr>\n",
       "  </thead>\n",
       "  <tbody>\n",
       "    <tr>\n",
       "      <th>1993</th>\n",
       "      <td>Estimated Migration (Persons in April)</td>\n",
       "      <td>2023</td>\n",
       "      <td>65 years and over</td>\n",
       "      <td>Male</td>\n",
       "      <td>Emigrants: All destinations</td>\n",
       "      <td>Thousand</td>\n",
       "      <td>0.4</td>\n",
       "    </tr>\n",
       "    <tr>\n",
       "      <th>1994</th>\n",
       "      <td>Estimated Migration (Persons in April)</td>\n",
       "      <td>2023</td>\n",
       "      <td>65 years and over</td>\n",
       "      <td>Male</td>\n",
       "      <td>Immigrants: All origins</td>\n",
       "      <td>Thousand</td>\n",
       "      <td>1.5</td>\n",
       "    </tr>\n",
       "    <tr>\n",
       "      <th>1995</th>\n",
       "      <td>Estimated Migration (Persons in April)</td>\n",
       "      <td>2023</td>\n",
       "      <td>65 years and over</td>\n",
       "      <td>Female</td>\n",
       "      <td>Net migration</td>\n",
       "      <td>Thousand</td>\n",
       "      <td>1.8</td>\n",
       "    </tr>\n",
       "    <tr>\n",
       "      <th>1996</th>\n",
       "      <td>Estimated Migration (Persons in April)</td>\n",
       "      <td>2023</td>\n",
       "      <td>65 years and over</td>\n",
       "      <td>Female</td>\n",
       "      <td>Emigrants: All destinations</td>\n",
       "      <td>Thousand</td>\n",
       "      <td>0.6</td>\n",
       "    </tr>\n",
       "    <tr>\n",
       "      <th>1997</th>\n",
       "      <td>Estimated Migration (Persons in April)</td>\n",
       "      <td>2023</td>\n",
       "      <td>65 years and over</td>\n",
       "      <td>Female</td>\n",
       "      <td>Immigrants: All origins</td>\n",
       "      <td>Thousand</td>\n",
       "      <td>2.5</td>\n",
       "    </tr>\n",
       "  </tbody>\n",
       "</table>\n",
       "</div>"
      ],
      "text/plain": [
       "                             STATISTIC Label  Year          Age Group     Sex  \\\n",
       "1993  Estimated Migration (Persons in April)  2023  65 years and over    Male   \n",
       "1994  Estimated Migration (Persons in April)  2023  65 years and over    Male   \n",
       "1995  Estimated Migration (Persons in April)  2023  65 years and over  Female   \n",
       "1996  Estimated Migration (Persons in April)  2023  65 years and over  Female   \n",
       "1997  Estimated Migration (Persons in April)  2023  65 years and over  Female   \n",
       "\n",
       "           Inward or Outward Flow      UNIT  VALUE  \n",
       "1993  Emigrants: All destinations  Thousand    0.4  \n",
       "1994      Immigrants: All origins  Thousand    1.5  \n",
       "1995                Net migration  Thousand    1.8  \n",
       "1996  Emigrants: All destinations  Thousand    0.6  \n",
       "1997      Immigrants: All origins  Thousand    2.5  "
      ]
     },
     "execution_count": 3,
     "metadata": {},
     "output_type": "execute_result"
    }
   ],
   "source": [
    "df.tail(5) "
   ]
  },
  {
   "cell_type": "code",
   "execution_count": 4,
   "id": "619f9d5c",
   "metadata": {},
   "outputs": [
    {
     "data": {
      "text/plain": [
       "STATISTIC Label            object\n",
       "Year                        int64\n",
       "Age Group                  object\n",
       "Sex                        object\n",
       "Inward or Outward Flow     object\n",
       "UNIT                       object\n",
       "VALUE                     float64\n",
       "dtype: object"
      ]
     },
     "execution_count": 4,
     "metadata": {},
     "output_type": "execute_result"
    }
   ],
   "source": [
    "df.dtypes"
   ]
  },
  {
   "cell_type": "code",
   "execution_count": 8,
   "id": "14025e02",
   "metadata": {
    "scrolled": true
   },
   "outputs": [
    {
     "data": {
      "text/html": [
       "<div>\n",
       "<style scoped>\n",
       "    .dataframe tbody tr th:only-of-type {\n",
       "        vertical-align: middle;\n",
       "    }\n",
       "\n",
       "    .dataframe tbody tr th {\n",
       "        vertical-align: top;\n",
       "    }\n",
       "\n",
       "    .dataframe thead th {\n",
       "        text-align: right;\n",
       "    }\n",
       "</style>\n",
       "<table border=\"1\" class=\"dataframe\">\n",
       "  <thead>\n",
       "    <tr style=\"text-align: right;\">\n",
       "      <th></th>\n",
       "      <th>Year</th>\n",
       "      <th>Age Group</th>\n",
       "      <th>Sex</th>\n",
       "      <th>Inward or Outward Flow</th>\n",
       "      <th>VALUE</th>\n",
       "    </tr>\n",
       "  </thead>\n",
       "  <tbody>\n",
       "    <tr>\n",
       "      <th>0</th>\n",
       "      <td>1987</td>\n",
       "      <td>All ages</td>\n",
       "      <td>Both sexes</td>\n",
       "      <td>Net migration</td>\n",
       "      <td>-23.0</td>\n",
       "    </tr>\n",
       "    <tr>\n",
       "      <th>1</th>\n",
       "      <td>1987</td>\n",
       "      <td>All ages</td>\n",
       "      <td>Both sexes</td>\n",
       "      <td>Emigrants: All destinations</td>\n",
       "      <td>40.2</td>\n",
       "    </tr>\n",
       "    <tr>\n",
       "      <th>2</th>\n",
       "      <td>1987</td>\n",
       "      <td>All ages</td>\n",
       "      <td>Both sexes</td>\n",
       "      <td>Immigrants: All origins</td>\n",
       "      <td>17.2</td>\n",
       "    </tr>\n",
       "    <tr>\n",
       "      <th>3</th>\n",
       "      <td>1987</td>\n",
       "      <td>All ages</td>\n",
       "      <td>Male</td>\n",
       "      <td>Net migration</td>\n",
       "      <td>NaN</td>\n",
       "    </tr>\n",
       "    <tr>\n",
       "      <th>4</th>\n",
       "      <td>1987</td>\n",
       "      <td>All ages</td>\n",
       "      <td>Male</td>\n",
       "      <td>Emigrants: All destinations</td>\n",
       "      <td>NaN</td>\n",
       "    </tr>\n",
       "  </tbody>\n",
       "</table>\n",
       "</div>"
      ],
      "text/plain": [
       "   Year Age Group         Sex       Inward or Outward Flow  VALUE\n",
       "0  1987  All ages  Both sexes                Net migration  -23.0\n",
       "1  1987  All ages  Both sexes  Emigrants: All destinations   40.2\n",
       "2  1987  All ages  Both sexes      Immigrants: All origins   17.2\n",
       "3  1987  All ages        Male                Net migration    NaN\n",
       "4  1987  All ages        Male  Emigrants: All destinations    NaN"
      ]
     },
     "execution_count": 8,
     "metadata": {},
     "output_type": "execute_result"
    }
   ],
   "source": [
    "df = df.drop([\"STATISTIC Label\"], axis=1)\n",
    "df.head(5)"
   ]
  },
  {
   "cell_type": "code",
   "execution_count": null,
   "id": "8132c2aa",
   "metadata": {},
   "outputs": [],
   "source": [
    "df = df.drop([\"UNIT\"], axis=1)"
   ]
  },
  {
   "cell_type": "code",
   "execution_count": 9,
   "id": "6b6a232f",
   "metadata": {},
   "outputs": [
    {
     "data": {
      "text/plain": [
       "(1998, 5)"
      ]
     },
     "execution_count": 9,
     "metadata": {},
     "output_type": "execute_result"
    }
   ],
   "source": [
    "df.shape"
   ]
  },
  {
   "cell_type": "code",
   "execution_count": 10,
   "id": "76f6c548",
   "metadata": {},
   "outputs": [
    {
     "name": "stdout",
     "output_type": "stream",
     "text": [
      "number of duplicate rows:  (0, 5)\n"
     ]
    }
   ],
   "source": [
    "duplicate_rows_df = df[df.duplicated()]\n",
    "print(\"number of duplicate rows: \", duplicate_rows_df.shape)\n"
   ]
  },
  {
   "cell_type": "code",
   "execution_count": 11,
   "id": "884e370b",
   "metadata": {},
   "outputs": [
    {
     "data": {
      "text/plain": [
       "Year                      1998\n",
       "Age Group                 1998\n",
       "Sex                       1998\n",
       "Inward or Outward Flow    1998\n",
       "VALUE                     1683\n",
       "dtype: int64"
      ]
     },
     "execution_count": 11,
     "metadata": {},
     "output_type": "execute_result"
    }
   ],
   "source": [
    "df.count() "
   ]
  },
  {
   "cell_type": "code",
   "execution_count": 12,
   "id": "b57cf060",
   "metadata": {},
   "outputs": [
    {
     "name": "stdout",
     "output_type": "stream",
     "text": [
      "Year                        0\n",
      "Age Group                   0\n",
      "Sex                         0\n",
      "Inward or Outward Flow      0\n",
      "VALUE                     315\n",
      "dtype: int64\n"
     ]
    }
   ],
   "source": [
    "print(df.isnull().sum())"
   ]
  },
  {
   "cell_type": "code",
   "execution_count": 20,
   "id": "c9572307",
   "metadata": {},
   "outputs": [
    {
     "data": {
      "text/plain": [
       "<Axes: xlabel='Year'>"
      ]
     },
     "execution_count": 20,
     "metadata": {},
     "output_type": "execute_result"
    },
    {
     "data": {
      "image/png": "[encoded data removed]",
      "text/plain": [
       "<Figure size 640x480 with 1 Axes>"
      ]
     },
     "metadata": {},
     "output_type": "display_data"
    }
   ],
   "source": [
    "import seaborn as snsYear                        \n",
    "sns.boxplot(x=df[\"Year\"])"
   ]
  },
  {
   "cell_type": "code",
   "execution_count": 22,
   "id": "c7114bb3",
   "metadata": {},
   "outputs": [
    {
     "name": "stdout",
     "output_type": "stream",
     "text": [
      "Year     18.0\n",
      "VALUE    12.8\n",
      "dtype: float64\n"
     ]
    }
   ],
   "source": [
    "Q1 = df.quantile(0.25)\n",
    "Q3 = df.quantile(0.75)\n",
    "IQR = Q3-Q1\n",
    "print(IQR)"
   ]
  },
  {
   "cell_type": "code",
   "execution_count": null,
   "id": "2918e67c",
   "metadata": {},
   "outputs": [],
   "source": []
  }
 ],
 "metadata": {
  "kernelspec": {
   "display_name": "Python 3 (ipykernel)",
   "language": "python",
   "name": "python3"
  },
  "language_info": {
   "codemirror_mode": {
    "name": "ipython",
    "version": 3
   },
   "file_extension": ".py",
   "mimetype": "text/x-python",
   "name": "python",
   "nbconvert_exporter": "python",
   "pygments_lexer": "ipython3",
   "version": "3.11.4"
  }
 },
 "nbformat": 4,
 "nbformat_minor": 5
}
