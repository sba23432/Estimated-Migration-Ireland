{
 "cells": [
  {
   "cell_type": "markdown",
   "id": "a255e9a5",
   "metadata": {},
   "source": [
    "Data preparation and Visualization : (Graded out of 100)\n",
    "1.  You must perform appropriate EDA on your dataset, rationalizing and detailing why you chose the specific methods and what insight you gained. [0-20]\n",
    "\n",
    "2.      You must also rationalise justify and detail all the methods used to prepare the data for ML. [0-30]\n",
    "3.      Appropriate visualizations must be used to engender insight into the dataset and to illustrate your final insights gained in your analysis. [0-20]\n",
    "4.      All design and implementation of your visualizations must be justified and detailed in full., making reference to Tufts Principles [0-30]\n"
   ]
  },
  {
   "cell_type": "code",
   "execution_count": 1,
   "id": "3b2d3c5e",
   "metadata": {},
   "outputs": [],
   "source": [
    "# Load the libraries\n",
    "import numpy as np\n",
    "import matplotlib.pyplot as plt\n",
    "import pandas as pd\n",
    "\n",
    "import warnings\n",
    "warnings.filterwarnings('ignore') # We can suppress the warnings"
   ]
  },
  {
   "cell_type": "markdown",
   "id": "e566d420",
   "metadata": {},
   "source": [
    "# Importing the dataset"
   ]
  },
  {
   "cell_type": "code",
   "execution_count": 2,
   "id": "f376ffd7",
   "metadata": {},
   "outputs": [
    {
     "data": {
      "text/html": [
       "<div>\n",
       "<style scoped>\n",
       "    .dataframe tbody tr th:only-of-type {\n",
       "        vertical-align: middle;\n",
       "    }\n",
       "\n",
       "    .dataframe tbody tr th {\n",
       "        vertical-align: top;\n",
       "    }\n",
       "\n",
       "    .dataframe thead th {\n",
       "        text-align: right;\n",
       "    }\n",
       "</style>\n",
       "<table border=\"1\" class=\"dataframe\">\n",
       "  <thead>\n",
       "    <tr style=\"text-align: right;\">\n",
       "      <th></th>\n",
       "      <th>STATISTIC Label</th>\n",
       "      <th>Year</th>\n",
       "      <th>Age Group</th>\n",
       "      <th>Sex</th>\n",
       "      <th>Inward or Outward Flow</th>\n",
       "      <th>UNIT</th>\n",
       "      <th>VALUE</th>\n",
       "    </tr>\n",
       "  </thead>\n",
       "  <tbody>\n",
       "    <tr>\n",
       "      <th>0</th>\n",
       "      <td>Estimated Migration (Persons in April)</td>\n",
       "      <td>1987</td>\n",
       "      <td>All ages</td>\n",
       "      <td>Both sexes</td>\n",
       "      <td>Net migration</td>\n",
       "      <td>Thousand</td>\n",
       "      <td>-23.0</td>\n",
       "    </tr>\n",
       "    <tr>\n",
       "      <th>1</th>\n",
       "      <td>Estimated Migration (Persons in April)</td>\n",
       "      <td>1987</td>\n",
       "      <td>All ages</td>\n",
       "      <td>Both sexes</td>\n",
       "      <td>Emigrants: All destinations</td>\n",
       "      <td>Thousand</td>\n",
       "      <td>40.2</td>\n",
       "    </tr>\n",
       "    <tr>\n",
       "      <th>2</th>\n",
       "      <td>Estimated Migration (Persons in April)</td>\n",
       "      <td>1987</td>\n",
       "      <td>All ages</td>\n",
       "      <td>Both sexes</td>\n",
       "      <td>Immigrants: All origins</td>\n",
       "      <td>Thousand</td>\n",
       "      <td>17.2</td>\n",
       "    </tr>\n",
       "    <tr>\n",
       "      <th>3</th>\n",
       "      <td>Estimated Migration (Persons in April)</td>\n",
       "      <td>1987</td>\n",
       "      <td>All ages</td>\n",
       "      <td>Male</td>\n",
       "      <td>Net migration</td>\n",
       "      <td>Thousand</td>\n",
       "      <td>NaN</td>\n",
       "    </tr>\n",
       "    <tr>\n",
       "      <th>4</th>\n",
       "      <td>Estimated Migration (Persons in April)</td>\n",
       "      <td>1987</td>\n",
       "      <td>All ages</td>\n",
       "      <td>Male</td>\n",
       "      <td>Emigrants: All destinations</td>\n",
       "      <td>Thousand</td>\n",
       "      <td>NaN</td>\n",
       "    </tr>\n",
       "  </tbody>\n",
       "</table>\n",
       "</div>"
      ],
      "text/plain": [
       "                          STATISTIC Label  Year Age Group         Sex  \\\n",
       "0  Estimated Migration (Persons in April)  1987  All ages  Both sexes   \n",
       "1  Estimated Migration (Persons in April)  1987  All ages  Both sexes   \n",
       "2  Estimated Migration (Persons in April)  1987  All ages  Both sexes   \n",
       "3  Estimated Migration (Persons in April)  1987  All ages        Male   \n",
       "4  Estimated Migration (Persons in April)  1987  All ages        Male   \n",
       "\n",
       "        Inward or Outward Flow      UNIT  VALUE  \n",
       "0                Net migration  Thousand  -23.0  \n",
       "1  Emigrants: All destinations  Thousand   40.2  \n",
       "2      Immigrants: All origins  Thousand   17.2  \n",
       "3                Net migration  Thousand    NaN  \n",
       "4  Emigrants: All destinations  Thousand    NaN  "
      ]
     },
     "execution_count": 2,
     "metadata": {},
     "output_type": "execute_result"
    }
   ],
   "source": [
    "# Load migration data.csv file into dataframe (df)\n",
    "df = pd.read_csv('Migration data.csv')\n",
    "\n",
    "# Display first 5 records\n",
    "df.head()"
   ]
  },
  {
   "cell_type": "code",
   "execution_count": 3,
   "id": "ac0250d0",
   "metadata": {},
   "outputs": [
    {
     "data": {
      "text/html": [
       "<div>\n",
       "<style scoped>\n",
       "    .dataframe tbody tr th:only-of-type {\n",
       "        vertical-align: middle;\n",
       "    }\n",
       "\n",
       "    .dataframe tbody tr th {\n",
       "        vertical-align: top;\n",
       "    }\n",
       "\n",
       "    .dataframe thead th {\n",
       "        text-align: right;\n",
       "    }\n",
       "</style>\n",
       "<table border=\"1\" class=\"dataframe\">\n",
       "  <thead>\n",
       "    <tr style=\"text-align: right;\">\n",
       "      <th></th>\n",
       "      <th>STATISTIC Label</th>\n",
       "      <th>Year</th>\n",
       "      <th>Age Group</th>\n",
       "      <th>Sex</th>\n",
       "      <th>Inward or Outward Flow</th>\n",
       "      <th>UNIT</th>\n",
       "      <th>VALUE</th>\n",
       "    </tr>\n",
       "  </thead>\n",
       "  <tbody>\n",
       "    <tr>\n",
       "      <th>1993</th>\n",
       "      <td>Estimated Migration (Persons in April)</td>\n",
       "      <td>2023</td>\n",
       "      <td>65 years and over</td>\n",
       "      <td>Male</td>\n",
       "      <td>Emigrants: All destinations</td>\n",
       "      <td>Thousand</td>\n",
       "      <td>0.4</td>\n",
       "    </tr>\n",
       "    <tr>\n",
       "      <th>1994</th>\n",
       "      <td>Estimated Migration (Persons in April)</td>\n",
       "      <td>2023</td>\n",
       "      <td>65 years and over</td>\n",
       "      <td>Male</td>\n",
       "      <td>Immigrants: All origins</td>\n",
       "      <td>Thousand</td>\n",
       "      <td>1.5</td>\n",
       "    </tr>\n",
       "    <tr>\n",
       "      <th>1995</th>\n",
       "      <td>Estimated Migration (Persons in April)</td>\n",
       "      <td>2023</td>\n",
       "      <td>65 years and over</td>\n",
       "      <td>Female</td>\n",
       "      <td>Net migration</td>\n",
       "      <td>Thousand</td>\n",
       "      <td>1.8</td>\n",
       "    </tr>\n",
       "    <tr>\n",
       "      <th>1996</th>\n",
       "      <td>Estimated Migration (Persons in April)</td>\n",
       "      <td>2023</td>\n",
       "      <td>65 years and over</td>\n",
       "      <td>Female</td>\n",
       "      <td>Emigrants: All destinations</td>\n",
       "      <td>Thousand</td>\n",
       "      <td>0.6</td>\n",
       "    </tr>\n",
       "    <tr>\n",
       "      <th>1997</th>\n",
       "      <td>Estimated Migration (Persons in April)</td>\n",
       "      <td>2023</td>\n",
       "      <td>65 years and over</td>\n",
       "      <td>Female</td>\n",
       "      <td>Immigrants: All origins</td>\n",
       "      <td>Thousand</td>\n",
       "      <td>2.5</td>\n",
       "    </tr>\n",
       "  </tbody>\n",
       "</table>\n",
       "</div>"
      ],
      "text/plain": [
       "                             STATISTIC Label  Year          Age Group     Sex  \\\n",
       "1993  Estimated Migration (Persons in April)  2023  65 years and over    Male   \n",
       "1994  Estimated Migration (Persons in April)  2023  65 years and over    Male   \n",
       "1995  Estimated Migration (Persons in April)  2023  65 years and over  Female   \n",
       "1996  Estimated Migration (Persons in April)  2023  65 years and over  Female   \n",
       "1997  Estimated Migration (Persons in April)  2023  65 years and over  Female   \n",
       "\n",
       "           Inward or Outward Flow      UNIT  VALUE  \n",
       "1993  Emigrants: All destinations  Thousand    0.4  \n",
       "1994      Immigrants: All origins  Thousand    1.5  \n",
       "1995                Net migration  Thousand    1.8  \n",
       "1996  Emigrants: All destinations  Thousand    0.6  \n",
       "1997      Immigrants: All origins  Thousand    2.5  "
      ]
     },
     "execution_count": 3,
     "metadata": {},
     "output_type": "execute_result"
    }
   ],
   "source": [
    "df.tail(5) "
   ]
  },
  {
   "cell_type": "code",
   "execution_count": 26,
   "id": "d4acbb19",
   "metadata": {},
   "outputs": [
    {
     "data": {
      "text/plain": [
       "Year                       object\n",
       "Age Group                  object\n",
       "Sex                        object\n",
       "Inward or Outward Flow     object\n",
       "VALUE                     float64\n",
       "VALUE_numeric             float64\n",
       "dtype: object"
      ]
     },
     "execution_count": 26,
     "metadata": {},
     "output_type": "execute_result"
    }
   ],
   "source": [
    "df.dtypes"
   ]
  },
  {
   "cell_type": "code",
   "execution_count": 25,
   "id": "08bcb5f1",
   "metadata": {},
   "outputs": [],
   "source": [
    "##Transforming data types \n",
    "\n",
    "df['Year'] = df.Year.astype('object')\n"
   ]
  },
  {
   "cell_type": "code",
   "execution_count": 46,
   "id": "50db2027",
   "metadata": {},
   "outputs": [],
   "source": [
    "df3=df['Age_Group'] = df.Age_Group.astype('category')\n"
   ]
  },
  {
   "cell_type": "code",
   "execution_count": 19,
   "id": "9d4ce76a",
   "metadata": {},
   "outputs": [
    {
     "name": "stdout",
     "output_type": "stream",
     "text": [
      "<class 'pandas.core.frame.DataFrame'>\n",
      "Int64Index: 1683 entries, 0 to 1997\n",
      "Data columns (total 6 columns):\n",
      " #   Column                  Non-Null Count  Dtype  \n",
      "---  ------                  --------------  -----  \n",
      " 0   Year                    1683 non-null   int64  \n",
      " 1   Age Group               1683 non-null   object \n",
      " 2   Sex                     1683 non-null   object \n",
      " 3   Inward or Outward Flow  1683 non-null   object \n",
      " 4   VALUE                   1683 non-null   float64\n",
      " 5   VALUE_numeric           1683 non-null   float64\n",
      "dtypes: float64(2), int64(1), object(3)\n",
      "memory usage: 92.0+ KB\n"
     ]
    }
   ],
   "source": [
    "df.info()"
   ]
  },
  {
   "cell_type": "code",
   "execution_count": 21,
   "id": "4b6f2496",
   "metadata": {},
   "outputs": [
    {
     "data": {
      "text/html": [
       "<div>\n",
       "<style scoped>\n",
       "    .dataframe tbody tr th:only-of-type {\n",
       "        vertical-align: middle;\n",
       "    }\n",
       "\n",
       "    .dataframe tbody tr th {\n",
       "        vertical-align: top;\n",
       "    }\n",
       "\n",
       "    .dataframe thead th {\n",
       "        text-align: right;\n",
       "    }\n",
       "</style>\n",
       "<table border=\"1\" class=\"dataframe\">\n",
       "  <thead>\n",
       "    <tr style=\"text-align: right;\">\n",
       "      <th></th>\n",
       "      <th>Year</th>\n",
       "      <th>VALUE</th>\n",
       "      <th>VALUE_numeric</th>\n",
       "    </tr>\n",
       "  </thead>\n",
       "  <tbody>\n",
       "    <tr>\n",
       "      <th>count</th>\n",
       "      <td>1683.000000</td>\n",
       "      <td>1683.000000</td>\n",
       "      <td>1683.000000</td>\n",
       "    </tr>\n",
       "    <tr>\n",
       "      <th>mean</th>\n",
       "      <td>2007.058824</td>\n",
       "      <td>10.856625</td>\n",
       "      <td>10.856625</td>\n",
       "    </tr>\n",
       "    <tr>\n",
       "      <th>std</th>\n",
       "      <td>10.247913</td>\n",
       "      <td>17.070445</td>\n",
       "      <td>17.070445</td>\n",
       "    </tr>\n",
       "    <tr>\n",
       "      <th>min</th>\n",
       "      <td>1987.000000</td>\n",
       "      <td>-43.900000</td>\n",
       "      <td>-43.900000</td>\n",
       "    </tr>\n",
       "    <tr>\n",
       "      <th>25%</th>\n",
       "      <td>1999.000000</td>\n",
       "      <td>1.200000</td>\n",
       "      <td>1.200000</td>\n",
       "    </tr>\n",
       "    <tr>\n",
       "      <th>50%</th>\n",
       "      <td>2008.000000</td>\n",
       "      <td>4.500000</td>\n",
       "      <td>4.500000</td>\n",
       "    </tr>\n",
       "    <tr>\n",
       "      <th>75%</th>\n",
       "      <td>2016.000000</td>\n",
       "      <td>14.000000</td>\n",
       "      <td>14.000000</td>\n",
       "    </tr>\n",
       "    <tr>\n",
       "      <th>max</th>\n",
       "      <td>2023.000000</td>\n",
       "      <td>151.100000</td>\n",
       "      <td>151.100000</td>\n",
       "    </tr>\n",
       "  </tbody>\n",
       "</table>\n",
       "</div>"
      ],
      "text/plain": [
       "              Year        VALUE  VALUE_numeric\n",
       "count  1683.000000  1683.000000    1683.000000\n",
       "mean   2007.058824    10.856625      10.856625\n",
       "std      10.247913    17.070445      17.070445\n",
       "min    1987.000000   -43.900000     -43.900000\n",
       "25%    1999.000000     1.200000       1.200000\n",
       "50%    2008.000000     4.500000       4.500000\n",
       "75%    2016.000000    14.000000      14.000000\n",
       "max    2023.000000   151.100000     151.100000"
      ]
     },
     "execution_count": 21,
     "metadata": {},
     "output_type": "execute_result"
    }
   ],
   "source": [
    "###Give information on non-categorical type columns\n",
    "df.describe()"
   ]
  },
  {
   "cell_type": "code",
   "execution_count": 28,
   "id": "07e42788",
   "metadata": {},
   "outputs": [
    {
     "name": "stdout",
     "output_type": "stream",
     "text": [
      "Index(['Year', 'Age Group', 'Sex', 'Inward or Outward Flow'], dtype='object')\n"
     ]
    },
    {
     "data": {
      "text/html": [
       "<div>\n",
       "<style scoped>\n",
       "    .dataframe tbody tr th:only-of-type {\n",
       "        vertical-align: middle;\n",
       "    }\n",
       "\n",
       "    .dataframe tbody tr th {\n",
       "        vertical-align: top;\n",
       "    }\n",
       "\n",
       "    .dataframe thead th {\n",
       "        text-align: right;\n",
       "    }\n",
       "</style>\n",
       "<table border=\"1\" class=\"dataframe\">\n",
       "  <thead>\n",
       "    <tr style=\"text-align: right;\">\n",
       "      <th></th>\n",
       "      <th>Year</th>\n",
       "      <th>Age Group</th>\n",
       "      <th>Sex</th>\n",
       "      <th>Inward or Outward Flow</th>\n",
       "    </tr>\n",
       "  </thead>\n",
       "  <tbody>\n",
       "    <tr>\n",
       "      <th>count</th>\n",
       "      <td>1683</td>\n",
       "      <td>1683</td>\n",
       "      <td>1683</td>\n",
       "      <td>1683</td>\n",
       "    </tr>\n",
       "    <tr>\n",
       "      <th>unique</th>\n",
       "      <td>37</td>\n",
       "      <td>6</td>\n",
       "      <td>3</td>\n",
       "      <td>3</td>\n",
       "    </tr>\n",
       "    <tr>\n",
       "      <th>top</th>\n",
       "      <td>2005</td>\n",
       "      <td>0 - 14 years</td>\n",
       "      <td>Both sexes</td>\n",
       "      <td>Emigrants: All destinations</td>\n",
       "    </tr>\n",
       "    <tr>\n",
       "      <th>freq</th>\n",
       "      <td>54</td>\n",
       "      <td>288</td>\n",
       "      <td>591</td>\n",
       "      <td>636</td>\n",
       "    </tr>\n",
       "  </tbody>\n",
       "</table>\n",
       "</div>"
      ],
      "text/plain": [
       "        Year     Age Group         Sex       Inward or Outward Flow\n",
       "count   1683          1683        1683                         1683\n",
       "unique    37             6           3                            3\n",
       "top     2005  0 - 14 years  Both sexes  Emigrants: All destinations\n",
       "freq      54           288         591                          636"
      ]
     },
     "execution_count": 28,
     "metadata": {},
     "output_type": "execute_result"
    }
   ],
   "source": [
    "###Will give info on the spread of data for the categorical columns \n",
    "categorical = df.dtypes[df.dtypes == \"object\"].index\n",
    "print(categorical)\n",
    "\n",
    "df[categorical].describe()\n",
    "\n",
    "##freq is the frequency of the top occuring variable"
   ]
  },
  {
   "cell_type": "code",
   "execution_count": 5,
   "id": "76bec8bb",
   "metadata": {
    "scrolled": false
   },
   "outputs": [
    {
     "data": {
      "text/html": [
       "<div>\n",
       "<style scoped>\n",
       "    .dataframe tbody tr th:only-of-type {\n",
       "        vertical-align: middle;\n",
       "    }\n",
       "\n",
       "    .dataframe tbody tr th {\n",
       "        vertical-align: top;\n",
       "    }\n",
       "\n",
       "    .dataframe thead th {\n",
       "        text-align: right;\n",
       "    }\n",
       "</style>\n",
       "<table border=\"1\" class=\"dataframe\">\n",
       "  <thead>\n",
       "    <tr style=\"text-align: right;\">\n",
       "      <th></th>\n",
       "      <th>Year</th>\n",
       "      <th>Age Group</th>\n",
       "      <th>Sex</th>\n",
       "      <th>Inward or Outward Flow</th>\n",
       "      <th>UNIT</th>\n",
       "      <th>VALUE</th>\n",
       "    </tr>\n",
       "  </thead>\n",
       "  <tbody>\n",
       "    <tr>\n",
       "      <th>0</th>\n",
       "      <td>1987</td>\n",
       "      <td>All ages</td>\n",
       "      <td>Both sexes</td>\n",
       "      <td>Net migration</td>\n",
       "      <td>Thousand</td>\n",
       "      <td>-23.0</td>\n",
       "    </tr>\n",
       "    <tr>\n",
       "      <th>1</th>\n",
       "      <td>1987</td>\n",
       "      <td>All ages</td>\n",
       "      <td>Both sexes</td>\n",
       "      <td>Emigrants: All destinations</td>\n",
       "      <td>Thousand</td>\n",
       "      <td>40.2</td>\n",
       "    </tr>\n",
       "    <tr>\n",
       "      <th>2</th>\n",
       "      <td>1987</td>\n",
       "      <td>All ages</td>\n",
       "      <td>Both sexes</td>\n",
       "      <td>Immigrants: All origins</td>\n",
       "      <td>Thousand</td>\n",
       "      <td>17.2</td>\n",
       "    </tr>\n",
       "    <tr>\n",
       "      <th>3</th>\n",
       "      <td>1987</td>\n",
       "      <td>All ages</td>\n",
       "      <td>Male</td>\n",
       "      <td>Net migration</td>\n",
       "      <td>Thousand</td>\n",
       "      <td>NaN</td>\n",
       "    </tr>\n",
       "    <tr>\n",
       "      <th>4</th>\n",
       "      <td>1987</td>\n",
       "      <td>All ages</td>\n",
       "      <td>Male</td>\n",
       "      <td>Emigrants: All destinations</td>\n",
       "      <td>Thousand</td>\n",
       "      <td>NaN</td>\n",
       "    </tr>\n",
       "  </tbody>\n",
       "</table>\n",
       "</div>"
      ],
      "text/plain": [
       "   Year Age Group         Sex       Inward or Outward Flow      UNIT  VALUE\n",
       "0  1987  All ages  Both sexes                Net migration  Thousand  -23.0\n",
       "1  1987  All ages  Both sexes  Emigrants: All destinations  Thousand   40.2\n",
       "2  1987  All ages  Both sexes      Immigrants: All origins  Thousand   17.2\n",
       "3  1987  All ages        Male                Net migration  Thousand    NaN\n",
       "4  1987  All ages        Male  Emigrants: All destinations  Thousand    NaN"
      ]
     },
     "execution_count": 5,
     "metadata": {},
     "output_type": "execute_result"
    }
   ],
   "source": [
    "df = df.drop([\"STATISTIC Label\"], axis=1)\n",
    "df.head(5)"
   ]
  },
  {
   "cell_type": "code",
   "execution_count": 6,
   "id": "42fb40b4",
   "metadata": {},
   "outputs": [],
   "source": [
    "df = df.drop([\"UNIT\"], axis=1)"
   ]
  },
  {
   "cell_type": "code",
   "execution_count": 7,
   "id": "b313c058",
   "metadata": {},
   "outputs": [
    {
     "data": {
      "text/plain": [
       "(1998, 5)"
      ]
     },
     "execution_count": 7,
     "metadata": {},
     "output_type": "execute_result"
    }
   ],
   "source": [
    "df.shape"
   ]
  },
  {
   "cell_type": "code",
   "execution_count": 8,
   "id": "50aa023c",
   "metadata": {},
   "outputs": [
    {
     "name": "stdout",
     "output_type": "stream",
     "text": [
      "number of duplicate rows:  (0, 5)\n"
     ]
    }
   ],
   "source": [
    "duplicate_rows_df = df[df.duplicated()]\n",
    "print(\"number of duplicate rows: \", duplicate_rows_df.shape)\n"
   ]
  },
  {
   "cell_type": "code",
   "execution_count": 9,
   "id": "def1234f",
   "metadata": {},
   "outputs": [
    {
     "data": {
      "text/plain": [
       "Year                      1998\n",
       "Age Group                 1998\n",
       "Sex                       1998\n",
       "Inward or Outward Flow    1998\n",
       "VALUE                     1683\n",
       "dtype: int64"
      ]
     },
     "execution_count": 9,
     "metadata": {},
     "output_type": "execute_result"
    }
   ],
   "source": [
    "df.count() "
   ]
  },
  {
   "cell_type": "code",
   "execution_count": 10,
   "id": "b946afe2",
   "metadata": {
    "scrolled": true
   },
   "outputs": [
    {
     "name": "stdout",
     "output_type": "stream",
     "text": [
      "Year                        0\n",
      "Age Group                   0\n",
      "Sex                         0\n",
      "Inward or Outward Flow      0\n",
      "VALUE                     315\n",
      "dtype: int64\n"
     ]
    }
   ],
   "source": [
    "print(df.isnull().sum())"
   ]
  },
  {
   "cell_type": "code",
   "execution_count": 11,
   "id": "0e5ca762",
   "metadata": {},
   "outputs": [
    {
     "data": {
      "text/plain": [
       "Year                      1683\n",
       "Age Group                 1683\n",
       "Sex                       1683\n",
       "Inward or Outward Flow    1683\n",
       "VALUE                     1683\n",
       "dtype: int64"
      ]
     },
     "execution_count": 11,
     "metadata": {},
     "output_type": "execute_result"
    }
   ],
   "source": [
    "df = df.dropna() \n",
    "df.count()"
   ]
  },
  {
   "cell_type": "code",
   "execution_count": 51,
   "id": "e6add966",
   "metadata": {},
   "outputs": [
    {
     "data": {
      "text/plain": [
       "'0 - 14 years'"
      ]
     },
     "execution_count": 51,
     "metadata": {},
     "output_type": "execute_result"
    }
   ],
   "source": [
    "import re\n",
    "re.sub('\\d+ \\- (\\d+) Year','\\g<1>', '0 - 14 years')"
   ]
  },
  {
   "cell_type": "code",
   "execution_count": 56,
   "id": "64b6604b",
   "metadata": {},
   "outputs": [
    {
     "name": "stdout",
     "output_type": "stream",
     "text": [
      "['All ages', '0 - 14 years', '15 - 24 years', '25 - 44 years', '45 - 64 years', '65 years and over']\n",
      "Categories (6, object): ['0 - 14 years', '15 - 24 years', '25 - 44 years', '45 - 64 years', '65 years and over', 'All ages']\n"
     ]
    }
   ],
   "source": [
    "print (df['Age_Group'].unique())"
   ]
  },
  {
   "cell_type": "code",
   "execution_count": 35,
   "id": "316ce6f4",
   "metadata": {},
   "outputs": [],
   "source": [
    "df = df.rename(columns={\"Inward or Outward Flow\": \"FlowofPeople\"})\n"
   ]
  },
  {
   "cell_type": "code",
   "execution_count": 12,
   "id": "efbd2a33",
   "metadata": {},
   "outputs": [],
   "source": [
    "df['VALUE_numeric'] = df.loc[:, 'VALUE']"
   ]
  },
  {
   "cell_type": "code",
   "execution_count": 27,
   "id": "57659890",
   "metadata": {},
   "outputs": [
    {
     "data": {
      "text/plain": [
       "<Axes: xlabel='Year'>"
      ]
     },
     "execution_count": 27,
     "metadata": {},
     "output_type": "execute_result"
    },
    {
     "data": {
      "image/png": "[encoded data removed]",
      "text/plain": [
       "<Figure size 640x480 with 1 Axes>"
      ]
     },
     "metadata": {},
     "output_type": "display_data"
    }
   ],
   "source": [
    "import seaborn as sns                       \n",
    "sns.boxplot(x=df[\"Year\"])"
   ]
  },
  {
   "cell_type": "markdown",
   "id": "c9feeed8",
   "metadata": {},
   "source": [
    "There seems to be a concentration of data in the years between the 1998 to 2018."
   ]
  },
  {
   "cell_type": "code",
   "execution_count": 29,
   "id": "aa02c60b",
   "metadata": {},
   "outputs": [
    {
     "data": {
      "text/plain": [
       "<Axes: xlabel='VALUE_numeric'>"
      ]
     },
     "execution_count": 29,
     "metadata": {},
     "output_type": "execute_result"
    },
    {
     "data": {
      "image/png": "[encoded data removed]",
      "text/plain": [
       "<Figure size 640x480 with 1 Axes>"
      ]
     },
     "metadata": {},
     "output_type": "display_data"
    }
   ],
   "source": [
    "sns.boxplot(x=df[\"VALUE_numeric\"]) #Seems to be some outliers"
   ]
  },
  {
   "cell_type": "code",
   "execution_count": 34,
   "id": "d6e3f6ed",
   "metadata": {},
   "outputs": [
    {
     "data": {
      "text/html": [
       "<div>\n",
       "<style scoped>\n",
       "    .dataframe tbody tr th:only-of-type {\n",
       "        vertical-align: middle;\n",
       "    }\n",
       "\n",
       "    .dataframe tbody tr th {\n",
       "        vertical-align: top;\n",
       "    }\n",
       "\n",
       "    .dataframe thead th {\n",
       "        text-align: right;\n",
       "    }\n",
       "</style>\n",
       "<table border=\"1\" class=\"dataframe\">\n",
       "  <thead>\n",
       "    <tr style=\"text-align: right;\">\n",
       "      <th></th>\n",
       "      <th>Year</th>\n",
       "      <th>Age Group</th>\n",
       "      <th>Sex</th>\n",
       "      <th>Inward or Outward Flow</th>\n",
       "      <th>VALUE</th>\n",
       "      <th>VALUE_numeric</th>\n",
       "    </tr>\n",
       "  </thead>\n",
       "  <tbody>\n",
       "    <tr>\n",
       "      <th>1629</th>\n",
       "      <td>2017</td>\n",
       "      <td>0 - 14 years</td>\n",
       "      <td>Both sexes</td>\n",
       "      <td>Net migration</td>\n",
       "      <td>4.4</td>\n",
       "      <td>4.4</td>\n",
       "    </tr>\n",
       "    <tr>\n",
       "      <th>1630</th>\n",
       "      <td>2017</td>\n",
       "      <td>0 - 14 years</td>\n",
       "      <td>Both sexes</td>\n",
       "      <td>Emigrants: All destinations</td>\n",
       "      <td>6.0</td>\n",
       "      <td>6.0</td>\n",
       "    </tr>\n",
       "    <tr>\n",
       "      <th>1631</th>\n",
       "      <td>2017</td>\n",
       "      <td>0 - 14 years</td>\n",
       "      <td>Both sexes</td>\n",
       "      <td>Immigrants: All origins</td>\n",
       "      <td>10.4</td>\n",
       "      <td>10.4</td>\n",
       "    </tr>\n",
       "    <tr>\n",
       "      <th>1632</th>\n",
       "      <td>2017</td>\n",
       "      <td>0 - 14 years</td>\n",
       "      <td>Male</td>\n",
       "      <td>Net migration</td>\n",
       "      <td>1.8</td>\n",
       "      <td>1.8</td>\n",
       "    </tr>\n",
       "    <tr>\n",
       "      <th>1633</th>\n",
       "      <td>2017</td>\n",
       "      <td>0 - 14 years</td>\n",
       "      <td>Male</td>\n",
       "      <td>Emigrants: All destinations</td>\n",
       "      <td>3.1</td>\n",
       "      <td>3.1</td>\n",
       "    </tr>\n",
       "    <tr>\n",
       "      <th>1634</th>\n",
       "      <td>2017</td>\n",
       "      <td>0 - 14 years</td>\n",
       "      <td>Male</td>\n",
       "      <td>Immigrants: All origins</td>\n",
       "      <td>4.9</td>\n",
       "      <td>4.9</td>\n",
       "    </tr>\n",
       "    <tr>\n",
       "      <th>1635</th>\n",
       "      <td>2017</td>\n",
       "      <td>0 - 14 years</td>\n",
       "      <td>Female</td>\n",
       "      <td>Net migration</td>\n",
       "      <td>2.7</td>\n",
       "      <td>2.7</td>\n",
       "    </tr>\n",
       "    <tr>\n",
       "      <th>1636</th>\n",
       "      <td>2017</td>\n",
       "      <td>0 - 14 years</td>\n",
       "      <td>Female</td>\n",
       "      <td>Emigrants: All destinations</td>\n",
       "      <td>2.9</td>\n",
       "      <td>2.9</td>\n",
       "    </tr>\n",
       "    <tr>\n",
       "      <th>1637</th>\n",
       "      <td>2017</td>\n",
       "      <td>0 - 14 years</td>\n",
       "      <td>Female</td>\n",
       "      <td>Immigrants: All origins</td>\n",
       "      <td>5.5</td>\n",
       "      <td>5.5</td>\n",
       "    </tr>\n",
       "    <tr>\n",
       "      <th>1638</th>\n",
       "      <td>2017</td>\n",
       "      <td>15 - 24 years</td>\n",
       "      <td>Both sexes</td>\n",
       "      <td>Net migration</td>\n",
       "      <td>4.6</td>\n",
       "      <td>4.6</td>\n",
       "    </tr>\n",
       "    <tr>\n",
       "      <th>1639</th>\n",
       "      <td>2017</td>\n",
       "      <td>15 - 24 years</td>\n",
       "      <td>Both sexes</td>\n",
       "      <td>Emigrants: All destinations</td>\n",
       "      <td>14.9</td>\n",
       "      <td>14.9</td>\n",
       "    </tr>\n",
       "    <tr>\n",
       "      <th>1640</th>\n",
       "      <td>2017</td>\n",
       "      <td>15 - 24 years</td>\n",
       "      <td>Both sexes</td>\n",
       "      <td>Immigrants: All origins</td>\n",
       "      <td>19.5</td>\n",
       "      <td>19.5</td>\n",
       "    </tr>\n",
       "    <tr>\n",
       "      <th>1641</th>\n",
       "      <td>2017</td>\n",
       "      <td>15 - 24 years</td>\n",
       "      <td>Male</td>\n",
       "      <td>Net migration</td>\n",
       "      <td>1.9</td>\n",
       "      <td>1.9</td>\n",
       "    </tr>\n",
       "    <tr>\n",
       "      <th>1642</th>\n",
       "      <td>2017</td>\n",
       "      <td>15 - 24 years</td>\n",
       "      <td>Male</td>\n",
       "      <td>Emigrants: All destinations</td>\n",
       "      <td>7.2</td>\n",
       "      <td>7.2</td>\n",
       "    </tr>\n",
       "    <tr>\n",
       "      <th>1643</th>\n",
       "      <td>2017</td>\n",
       "      <td>15 - 24 years</td>\n",
       "      <td>Male</td>\n",
       "      <td>Immigrants: All origins</td>\n",
       "      <td>9.1</td>\n",
       "      <td>9.1</td>\n",
       "    </tr>\n",
       "    <tr>\n",
       "      <th>1644</th>\n",
       "      <td>2017</td>\n",
       "      <td>15 - 24 years</td>\n",
       "      <td>Female</td>\n",
       "      <td>Net migration</td>\n",
       "      <td>2.8</td>\n",
       "      <td>2.8</td>\n",
       "    </tr>\n",
       "    <tr>\n",
       "      <th>1645</th>\n",
       "      <td>2017</td>\n",
       "      <td>15 - 24 years</td>\n",
       "      <td>Female</td>\n",
       "      <td>Emigrants: All destinations</td>\n",
       "      <td>7.6</td>\n",
       "      <td>7.6</td>\n",
       "    </tr>\n",
       "    <tr>\n",
       "      <th>1646</th>\n",
       "      <td>2017</td>\n",
       "      <td>15 - 24 years</td>\n",
       "      <td>Female</td>\n",
       "      <td>Immigrants: All origins</td>\n",
       "      <td>10.4</td>\n",
       "      <td>10.4</td>\n",
       "    </tr>\n",
       "    <tr>\n",
       "      <th>1647</th>\n",
       "      <td>2017</td>\n",
       "      <td>25 - 44 years</td>\n",
       "      <td>Both sexes</td>\n",
       "      <td>Net migration</td>\n",
       "      <td>18.0</td>\n",
       "      <td>18.0</td>\n",
       "    </tr>\n",
       "    <tr>\n",
       "      <th>1648</th>\n",
       "      <td>2017</td>\n",
       "      <td>25 - 44 years</td>\n",
       "      <td>Both sexes</td>\n",
       "      <td>Emigrants: All destinations</td>\n",
       "      <td>31.2</td>\n",
       "      <td>31.2</td>\n",
       "    </tr>\n",
       "    <tr>\n",
       "      <th>1649</th>\n",
       "      <td>2017</td>\n",
       "      <td>25 - 44 years</td>\n",
       "      <td>Both sexes</td>\n",
       "      <td>Immigrants: All origins</td>\n",
       "      <td>49.2</td>\n",
       "      <td>49.2</td>\n",
       "    </tr>\n",
       "    <tr>\n",
       "      <th>1650</th>\n",
       "      <td>2017</td>\n",
       "      <td>25 - 44 years</td>\n",
       "      <td>Male</td>\n",
       "      <td>Net migration</td>\n",
       "      <td>8.6</td>\n",
       "      <td>8.6</td>\n",
       "    </tr>\n",
       "    <tr>\n",
       "      <th>1651</th>\n",
       "      <td>2017</td>\n",
       "      <td>25 - 44 years</td>\n",
       "      <td>Male</td>\n",
       "      <td>Emigrants: All destinations</td>\n",
       "      <td>16.6</td>\n",
       "      <td>16.6</td>\n",
       "    </tr>\n",
       "    <tr>\n",
       "      <th>1652</th>\n",
       "      <td>2017</td>\n",
       "      <td>25 - 44 years</td>\n",
       "      <td>Male</td>\n",
       "      <td>Immigrants: All origins</td>\n",
       "      <td>25.1</td>\n",
       "      <td>25.1</td>\n",
       "    </tr>\n",
       "    <tr>\n",
       "      <th>1653</th>\n",
       "      <td>2017</td>\n",
       "      <td>25 - 44 years</td>\n",
       "      <td>Female</td>\n",
       "      <td>Net migration</td>\n",
       "      <td>9.4</td>\n",
       "      <td>9.4</td>\n",
       "    </tr>\n",
       "    <tr>\n",
       "      <th>1654</th>\n",
       "      <td>2017</td>\n",
       "      <td>25 - 44 years</td>\n",
       "      <td>Female</td>\n",
       "      <td>Emigrants: All destinations</td>\n",
       "      <td>14.7</td>\n",
       "      <td>14.7</td>\n",
       "    </tr>\n",
       "    <tr>\n",
       "      <th>1655</th>\n",
       "      <td>2017</td>\n",
       "      <td>25 - 44 years</td>\n",
       "      <td>Female</td>\n",
       "      <td>Immigrants: All origins</td>\n",
       "      <td>24.1</td>\n",
       "      <td>24.1</td>\n",
       "    </tr>\n",
       "    <tr>\n",
       "      <th>1656</th>\n",
       "      <td>2017</td>\n",
       "      <td>45 - 64 years</td>\n",
       "      <td>Both sexes</td>\n",
       "      <td>Net migration</td>\n",
       "      <td>8.7</td>\n",
       "      <td>8.7</td>\n",
       "    </tr>\n",
       "    <tr>\n",
       "      <th>1657</th>\n",
       "      <td>2017</td>\n",
       "      <td>45 - 64 years</td>\n",
       "      <td>Both sexes</td>\n",
       "      <td>Emigrants: All destinations</td>\n",
       "      <td>2.8</td>\n",
       "      <td>2.8</td>\n",
       "    </tr>\n",
       "    <tr>\n",
       "      <th>1658</th>\n",
       "      <td>2017</td>\n",
       "      <td>45 - 64 years</td>\n",
       "      <td>Both sexes</td>\n",
       "      <td>Immigrants: All origins</td>\n",
       "      <td>11.5</td>\n",
       "      <td>11.5</td>\n",
       "    </tr>\n",
       "    <tr>\n",
       "      <th>1659</th>\n",
       "      <td>2017</td>\n",
       "      <td>45 - 64 years</td>\n",
       "      <td>Male</td>\n",
       "      <td>Net migration</td>\n",
       "      <td>3.9</td>\n",
       "      <td>3.9</td>\n",
       "    </tr>\n",
       "    <tr>\n",
       "      <th>1660</th>\n",
       "      <td>2017</td>\n",
       "      <td>45 - 64 years</td>\n",
       "      <td>Male</td>\n",
       "      <td>Emigrants: All destinations</td>\n",
       "      <td>1.9</td>\n",
       "      <td>1.9</td>\n",
       "    </tr>\n",
       "    <tr>\n",
       "      <th>1661</th>\n",
       "      <td>2017</td>\n",
       "      <td>45 - 64 years</td>\n",
       "      <td>Male</td>\n",
       "      <td>Immigrants: All origins</td>\n",
       "      <td>5.9</td>\n",
       "      <td>5.9</td>\n",
       "    </tr>\n",
       "    <tr>\n",
       "      <th>1662</th>\n",
       "      <td>2017</td>\n",
       "      <td>45 - 64 years</td>\n",
       "      <td>Female</td>\n",
       "      <td>Net migration</td>\n",
       "      <td>4.8</td>\n",
       "      <td>4.8</td>\n",
       "    </tr>\n",
       "    <tr>\n",
       "      <th>1663</th>\n",
       "      <td>2017</td>\n",
       "      <td>45 - 64 years</td>\n",
       "      <td>Female</td>\n",
       "      <td>Emigrants: All destinations</td>\n",
       "      <td>0.9</td>\n",
       "      <td>0.9</td>\n",
       "    </tr>\n",
       "    <tr>\n",
       "      <th>1664</th>\n",
       "      <td>2017</td>\n",
       "      <td>45 - 64 years</td>\n",
       "      <td>Female</td>\n",
       "      <td>Immigrants: All origins</td>\n",
       "      <td>5.7</td>\n",
       "      <td>5.7</td>\n",
       "    </tr>\n",
       "    <tr>\n",
       "      <th>1665</th>\n",
       "      <td>2017</td>\n",
       "      <td>65 years and over</td>\n",
       "      <td>Both sexes</td>\n",
       "      <td>Net migration</td>\n",
       "      <td>3.4</td>\n",
       "      <td>3.4</td>\n",
       "    </tr>\n",
       "    <tr>\n",
       "      <th>1666</th>\n",
       "      <td>2017</td>\n",
       "      <td>65 years and over</td>\n",
       "      <td>Both sexes</td>\n",
       "      <td>Emigrants: All destinations</td>\n",
       "      <td>1.2</td>\n",
       "      <td>1.2</td>\n",
       "    </tr>\n",
       "    <tr>\n",
       "      <th>1667</th>\n",
       "      <td>2017</td>\n",
       "      <td>65 years and over</td>\n",
       "      <td>Both sexes</td>\n",
       "      <td>Immigrants: All origins</td>\n",
       "      <td>4.6</td>\n",
       "      <td>4.6</td>\n",
       "    </tr>\n",
       "    <tr>\n",
       "      <th>1668</th>\n",
       "      <td>2017</td>\n",
       "      <td>65 years and over</td>\n",
       "      <td>Male</td>\n",
       "      <td>Net migration</td>\n",
       "      <td>1.6</td>\n",
       "      <td>1.6</td>\n",
       "    </tr>\n",
       "    <tr>\n",
       "      <th>1669</th>\n",
       "      <td>2017</td>\n",
       "      <td>65 years and over</td>\n",
       "      <td>Male</td>\n",
       "      <td>Emigrants: All destinations</td>\n",
       "      <td>0.7</td>\n",
       "      <td>0.7</td>\n",
       "    </tr>\n",
       "    <tr>\n",
       "      <th>1670</th>\n",
       "      <td>2017</td>\n",
       "      <td>65 years and over</td>\n",
       "      <td>Male</td>\n",
       "      <td>Immigrants: All origins</td>\n",
       "      <td>2.3</td>\n",
       "      <td>2.3</td>\n",
       "    </tr>\n",
       "    <tr>\n",
       "      <th>1671</th>\n",
       "      <td>2017</td>\n",
       "      <td>65 years and over</td>\n",
       "      <td>Female</td>\n",
       "      <td>Net migration</td>\n",
       "      <td>1.8</td>\n",
       "      <td>1.8</td>\n",
       "    </tr>\n",
       "    <tr>\n",
       "      <th>1672</th>\n",
       "      <td>2017</td>\n",
       "      <td>65 years and over</td>\n",
       "      <td>Female</td>\n",
       "      <td>Emigrants: All destinations</td>\n",
       "      <td>0.5</td>\n",
       "      <td>0.5</td>\n",
       "    </tr>\n",
       "    <tr>\n",
       "      <th>1673</th>\n",
       "      <td>2017</td>\n",
       "      <td>65 years and over</td>\n",
       "      <td>Female</td>\n",
       "      <td>Immigrants: All origins</td>\n",
       "      <td>2.3</td>\n",
       "      <td>2.3</td>\n",
       "    </tr>\n",
       "    <tr>\n",
       "      <th>1674</th>\n",
       "      <td>2018</td>\n",
       "      <td>All ages</td>\n",
       "      <td>Both sexes</td>\n",
       "      <td>Net migration</td>\n",
       "      <td>44.4</td>\n",
       "      <td>44.4</td>\n",
       "    </tr>\n",
       "    <tr>\n",
       "      <th>1675</th>\n",
       "      <td>2018</td>\n",
       "      <td>All ages</td>\n",
       "      <td>Both sexes</td>\n",
       "      <td>Emigrants: All destinations</td>\n",
       "      <td>51.6</td>\n",
       "      <td>51.6</td>\n",
       "    </tr>\n",
       "    <tr>\n",
       "      <th>1676</th>\n",
       "      <td>2018</td>\n",
       "      <td>All ages</td>\n",
       "      <td>Both sexes</td>\n",
       "      <td>Immigrants: All origins</td>\n",
       "      <td>96.0</td>\n",
       "      <td>96.0</td>\n",
       "    </tr>\n",
       "    <tr>\n",
       "      <th>1677</th>\n",
       "      <td>2018</td>\n",
       "      <td>All ages</td>\n",
       "      <td>Male</td>\n",
       "      <td>Net migration</td>\n",
       "      <td>23.3</td>\n",
       "      <td>23.3</td>\n",
       "    </tr>\n",
       "    <tr>\n",
       "      <th>1678</th>\n",
       "      <td>2018</td>\n",
       "      <td>All ages</td>\n",
       "      <td>Male</td>\n",
       "      <td>Emigrants: All destinations</td>\n",
       "      <td>24.0</td>\n",
       "      <td>24.0</td>\n",
       "    </tr>\n",
       "    <tr>\n",
       "      <th>1679</th>\n",
       "      <td>2018</td>\n",
       "      <td>All ages</td>\n",
       "      <td>Male</td>\n",
       "      <td>Immigrants: All origins</td>\n",
       "      <td>47.3</td>\n",
       "      <td>47.3</td>\n",
       "    </tr>\n",
       "    <tr>\n",
       "      <th>1680</th>\n",
       "      <td>2018</td>\n",
       "      <td>All ages</td>\n",
       "      <td>Female</td>\n",
       "      <td>Net migration</td>\n",
       "      <td>21.1</td>\n",
       "      <td>21.1</td>\n",
       "    </tr>\n",
       "    <tr>\n",
       "      <th>1681</th>\n",
       "      <td>2018</td>\n",
       "      <td>All ages</td>\n",
       "      <td>Female</td>\n",
       "      <td>Emigrants: All destinations</td>\n",
       "      <td>27.6</td>\n",
       "      <td>27.6</td>\n",
       "    </tr>\n",
       "    <tr>\n",
       "      <th>1682</th>\n",
       "      <td>2018</td>\n",
       "      <td>All ages</td>\n",
       "      <td>Female</td>\n",
       "      <td>Immigrants: All origins</td>\n",
       "      <td>48.7</td>\n",
       "      <td>48.7</td>\n",
       "    </tr>\n",
       "  </tbody>\n",
       "</table>\n",
       "</div>"
      ],
      "text/plain": [
       "      Year          Age Group         Sex       Inward or Outward Flow  VALUE  \\\n",
       "1629  2017       0 - 14 years  Both sexes                Net migration    4.4   \n",
       "1630  2017       0 - 14 years  Both sexes  Emigrants: All destinations    6.0   \n",
       "1631  2017       0 - 14 years  Both sexes      Immigrants: All origins   10.4   \n",
       "1632  2017       0 - 14 years        Male                Net migration    1.8   \n",
       "1633  2017       0 - 14 years        Male  Emigrants: All destinations    3.1   \n",
       "1634  2017       0 - 14 years        Male      Immigrants: All origins    4.9   \n",
       "1635  2017       0 - 14 years      Female                Net migration    2.7   \n",
       "1636  2017       0 - 14 years      Female  Emigrants: All destinations    2.9   \n",
       "1637  2017       0 - 14 years      Female      Immigrants: All origins    5.5   \n",
       "1638  2017      15 - 24 years  Both sexes                Net migration    4.6   \n",
       "1639  2017      15 - 24 years  Both sexes  Emigrants: All destinations   14.9   \n",
       "1640  2017      15 - 24 years  Both sexes      Immigrants: All origins   19.5   \n",
       "1641  2017      15 - 24 years        Male                Net migration    1.9   \n",
       "1642  2017      15 - 24 years        Male  Emigrants: All destinations    7.2   \n",
       "1643  2017      15 - 24 years        Male      Immigrants: All origins    9.1   \n",
       "1644  2017      15 - 24 years      Female                Net migration    2.8   \n",
       "1645  2017      15 - 24 years      Female  Emigrants: All destinations    7.6   \n",
       "1646  2017      15 - 24 years      Female      Immigrants: All origins   10.4   \n",
       "1647  2017      25 - 44 years  Both sexes                Net migration   18.0   \n",
       "1648  2017      25 - 44 years  Both sexes  Emigrants: All destinations   31.2   \n",
       "1649  2017      25 - 44 years  Both sexes      Immigrants: All origins   49.2   \n",
       "1650  2017      25 - 44 years        Male                Net migration    8.6   \n",
       "1651  2017      25 - 44 years        Male  Emigrants: All destinations   16.6   \n",
       "1652  2017      25 - 44 years        Male      Immigrants: All origins   25.1   \n",
       "1653  2017      25 - 44 years      Female                Net migration    9.4   \n",
       "1654  2017      25 - 44 years      Female  Emigrants: All destinations   14.7   \n",
       "1655  2017      25 - 44 years      Female      Immigrants: All origins   24.1   \n",
       "1656  2017      45 - 64 years  Both sexes                Net migration    8.7   \n",
       "1657  2017      45 - 64 years  Both sexes  Emigrants: All destinations    2.8   \n",
       "1658  2017      45 - 64 years  Both sexes      Immigrants: All origins   11.5   \n",
       "1659  2017      45 - 64 years        Male                Net migration    3.9   \n",
       "1660  2017      45 - 64 years        Male  Emigrants: All destinations    1.9   \n",
       "1661  2017      45 - 64 years        Male      Immigrants: All origins    5.9   \n",
       "1662  2017      45 - 64 years      Female                Net migration    4.8   \n",
       "1663  2017      45 - 64 years      Female  Emigrants: All destinations    0.9   \n",
       "1664  2017      45 - 64 years      Female      Immigrants: All origins    5.7   \n",
       "1665  2017  65 years and over  Both sexes                Net migration    3.4   \n",
       "1666  2017  65 years and over  Both sexes  Emigrants: All destinations    1.2   \n",
       "1667  2017  65 years and over  Both sexes      Immigrants: All origins    4.6   \n",
       "1668  2017  65 years and over        Male                Net migration    1.6   \n",
       "1669  2017  65 years and over        Male  Emigrants: All destinations    0.7   \n",
       "1670  2017  65 years and over        Male      Immigrants: All origins    2.3   \n",
       "1671  2017  65 years and over      Female                Net migration    1.8   \n",
       "1672  2017  65 years and over      Female  Emigrants: All destinations    0.5   \n",
       "1673  2017  65 years and over      Female      Immigrants: All origins    2.3   \n",
       "1674  2018           All ages  Both sexes                Net migration   44.4   \n",
       "1675  2018           All ages  Both sexes  Emigrants: All destinations   51.6   \n",
       "1676  2018           All ages  Both sexes      Immigrants: All origins   96.0   \n",
       "1677  2018           All ages        Male                Net migration   23.3   \n",
       "1678  2018           All ages        Male  Emigrants: All destinations   24.0   \n",
       "1679  2018           All ages        Male      Immigrants: All origins   47.3   \n",
       "1680  2018           All ages      Female                Net migration   21.1   \n",
       "1681  2018           All ages      Female  Emigrants: All destinations   27.6   \n",
       "1682  2018           All ages      Female      Immigrants: All origins   48.7   \n",
       "\n",
       "      VALUE_numeric  \n",
       "1629            4.4  \n",
       "1630            6.0  \n",
       "1631           10.4  \n",
       "1632            1.8  \n",
       "1633            3.1  \n",
       "1634            4.9  \n",
       "1635            2.7  \n",
       "1636            2.9  \n",
       "1637            5.5  \n",
       "1638            4.6  \n",
       "1639           14.9  \n",
       "1640           19.5  \n",
       "1641            1.9  \n",
       "1642            7.2  \n",
       "1643            9.1  \n",
       "1644            2.8  \n",
       "1645            7.6  \n",
       "1646           10.4  \n",
       "1647           18.0  \n",
       "1648           31.2  \n",
       "1649           49.2  \n",
       "1650            8.6  \n",
       "1651           16.6  \n",
       "1652           25.1  \n",
       "1653            9.4  \n",
       "1654           14.7  \n",
       "1655           24.1  \n",
       "1656            8.7  \n",
       "1657            2.8  \n",
       "1658           11.5  \n",
       "1659            3.9  \n",
       "1660            1.9  \n",
       "1661            5.9  \n",
       "1662            4.8  \n",
       "1663            0.9  \n",
       "1664            5.7  \n",
       "1665            3.4  \n",
       "1666            1.2  \n",
       "1667            4.6  \n",
       "1668            1.6  \n",
       "1669            0.7  \n",
       "1670            2.3  \n",
       "1671            1.8  \n",
       "1672            0.5  \n",
       "1673            2.3  \n",
       "1674           44.4  \n",
       "1675           51.6  \n",
       "1676           96.0  \n",
       "1677           23.3  \n",
       "1678           24.0  \n",
       "1679           47.3  \n",
       "1680           21.1  \n",
       "1681           27.6  \n",
       "1682           48.7  "
      ]
     },
     "execution_count": 34,
     "metadata": {},
     "output_type": "execute_result"
    }
   ],
   "source": [
    "index = np.where(df[\"Year\"] == max(df[\"Year\"]) )\n",
    "\n",
    "df.loc[index]"
   ]
  },
  {
   "cell_type": "code",
   "execution_count": 47,
   "id": "00058ea2",
   "metadata": {},
   "outputs": [
    {
     "ename": "AttributeError",
     "evalue": "'Series' object has no attribute 'query'",
     "output_type": "error",
     "traceback": [
      "\u001b[1;31m---------------------------------------------------------------------------\u001b[0m",
      "\u001b[1;31mAttributeError\u001b[0m                            Traceback (most recent call last)",
      "Cell \u001b[1;32mIn[47], line 1\u001b[0m\n\u001b[1;32m----> 1\u001b[0m ax \u001b[38;5;241m=\u001b[39m df3\u001b[38;5;241m.\u001b[39mquery(\u001b[38;5;124m'\u001b[39m\u001b[38;5;124mAge_Group\u001b[39m\u001b[38;5;124m'\u001b[39m) \\\n\u001b[0;32m      2\u001b[0m     \u001b[38;5;241m.\u001b[39mgroupby(\u001b[38;5;124m'\u001b[39m\u001b[38;5;124mAge_Group\u001b[39m\u001b[38;5;124m'\u001b[39m)[\u001b[38;5;124m'\u001b[39m\u001b[38;5;124mVALUE_numeric\u001b[39m\u001b[38;5;124m'\u001b[39m] \\\n\u001b[0;32m      3\u001b[0m     \u001b[38;5;241m.\u001b[39magg([\u001b[38;5;124m'\u001b[39m\u001b[38;5;124mmean\u001b[39m\u001b[38;5;124m'\u001b[39m,\u001b[38;5;124m'\u001b[39m\u001b[38;5;124mcount\u001b[39m\u001b[38;5;124m'\u001b[39m]) \\\n\u001b[0;32m      4\u001b[0m     \u001b[38;5;241m.\u001b[39mquery(\u001b[38;5;124m'\u001b[39m\u001b[38;5;124mcount >= 10\u001b[39m\u001b[38;5;124m'\u001b[39m) \\\n\u001b[0;32m      5\u001b[0m     \u001b[38;5;241m.\u001b[39msort_values(\u001b[38;5;124m'\u001b[39m\u001b[38;5;124mmean\u001b[39m\u001b[38;5;124m'\u001b[39m)[\u001b[38;5;124m'\u001b[39m\u001b[38;5;124mmean\u001b[39m\u001b[38;5;124m'\u001b[39m] \\\n\u001b[0;32m      6\u001b[0m     \u001b[38;5;241m.\u001b[39mplot(kind\u001b[38;5;241m=\u001b[39m\u001b[38;5;124m'\u001b[39m\u001b[38;5;124mbarh\u001b[39m\u001b[38;5;124m'\u001b[39m, figsize\u001b[38;5;241m=\u001b[39m(\u001b[38;5;241m12\u001b[39m, \u001b[38;5;241m5\u001b[39m), title\u001b[38;5;241m=\u001b[39m\u001b[38;5;124m'\u001b[39m\u001b[38;5;124mAverage Coast Speed by Location\u001b[39m\u001b[38;5;124m'\u001b[39m)\n\u001b[0;32m      7\u001b[0m ax\u001b[38;5;241m.\u001b[39mset_xlabel(\u001b[38;5;124m'\u001b[39m\u001b[38;5;124mAverage Coaster Speed\u001b[39m\u001b[38;5;124m'\u001b[39m)\n\u001b[0;32m      8\u001b[0m plt\u001b[38;5;241m.\u001b[39mshow()\n",
      "File \u001b[1;32m~\\anaconda3\\Lib\\site-packages\\pandas\\core\\generic.py:5902\u001b[0m, in \u001b[0;36mNDFrame.__getattr__\u001b[1;34m(self, name)\u001b[0m\n\u001b[0;32m   5895\u001b[0m \u001b[38;5;28;01mif\u001b[39;00m (\n\u001b[0;32m   5896\u001b[0m     name \u001b[38;5;129;01mnot\u001b[39;00m \u001b[38;5;129;01min\u001b[39;00m \u001b[38;5;28mself\u001b[39m\u001b[38;5;241m.\u001b[39m_internal_names_set\n\u001b[0;32m   5897\u001b[0m     \u001b[38;5;129;01mand\u001b[39;00m name \u001b[38;5;129;01mnot\u001b[39;00m \u001b[38;5;129;01min\u001b[39;00m \u001b[38;5;28mself\u001b[39m\u001b[38;5;241m.\u001b[39m_metadata\n\u001b[0;32m   5898\u001b[0m     \u001b[38;5;129;01mand\u001b[39;00m name \u001b[38;5;129;01mnot\u001b[39;00m \u001b[38;5;129;01min\u001b[39;00m \u001b[38;5;28mself\u001b[39m\u001b[38;5;241m.\u001b[39m_accessors\n\u001b[0;32m   5899\u001b[0m     \u001b[38;5;129;01mand\u001b[39;00m \u001b[38;5;28mself\u001b[39m\u001b[38;5;241m.\u001b[39m_info_axis\u001b[38;5;241m.\u001b[39m_can_hold_identifiers_and_holds_name(name)\n\u001b[0;32m   5900\u001b[0m ):\n\u001b[0;32m   5901\u001b[0m     \u001b[38;5;28;01mreturn\u001b[39;00m \u001b[38;5;28mself\u001b[39m[name]\n\u001b[1;32m-> 5902\u001b[0m \u001b[38;5;28;01mreturn\u001b[39;00m \u001b[38;5;28mobject\u001b[39m\u001b[38;5;241m.\u001b[39m\u001b[38;5;21m__getattribute__\u001b[39m(\u001b[38;5;28mself\u001b[39m, name)\n",
      "\u001b[1;31mAttributeError\u001b[0m: 'Series' object has no attribute 'query'"
     ]
    }
   ],
   "source": [
    "ax = df3.query('Age_Group') \\\n",
    "    .groupby('Age_Group')['VALUE_numeric'] \\\n",
    "    .agg(['mean','count']) \\\n",
    "    .query('count >= 10') \\\n",
    "    .sort_values('mean')['mean'] \\\n",
    "    .plot(kind='barh', figsize=(12, 5), title='Average Coast Speed by Location')\n",
    "ax.set_xlabel('Average Coaster Speed')\n",
    "plt.show()\n",
    "#####do the rest"
   ]
  },
  {
   "cell_type": "code",
   "execution_count": null,
   "id": "df482e5d",
   "metadata": {},
   "outputs": [],
   "source": [
    "Q1 = df.quantile(0.25)\n",
    "Q3 = df.quantile(0.75)\n",
    "IQR = Q3-Q1\n",
    "print(IQR)"
   ]
  },
  {
   "cell_type": "code",
   "execution_count": null,
   "id": "7661f870",
   "metadata": {},
   "outputs": [],
   "source": [
    "df = df[~((df < (Q1-1.5 * IQR)) |(df > (Q3 + 1.5 * IQR))).any(axis=1)] ###this will remove outliers"
   ]
  },
  {
   "cell_type": "code",
   "execution_count": null,
   "id": "35ee44f2",
   "metadata": {},
   "outputs": [],
   "source": [
    "df.shape"
   ]
  },
  {
   "cell_type": "code",
   "execution_count": null,
   "id": "5c708012",
   "metadata": {},
   "outputs": [],
   "source": [
    "df.FlowofPeople.value_counts().nlargest(40).plot(kind=\"bar\", figsize=(10,5))###more people have left than people coming in"
   ]
  },
  {
   "cell_type": "code",
   "execution_count": 36,
   "id": "12094252",
   "metadata": {},
   "outputs": [
    {
     "data": {
      "text/plain": [
       "<Axes: >"
      ]
     },
     "execution_count": 36,
     "metadata": {},
     "output_type": "execute_result"
    },
    {
     "data": {
      "image/png": "[encoded data removed]",
      "text/plain": [
       "<Figure size 1000x500 with 1 Axes>"
      ]
     },
     "metadata": {},
     "output_type": "display_data"
    }
   ],
   "source": [
    "df = df.rename(columns={\"Age Group\": \"Age_Group\"})\n",
    "\n",
    "df.Age_Group.value_counts().nlargest(40).plot(kind=\"bar\", figsize=(10,5))"
   ]
  },
  {
   "cell_type": "code",
   "execution_count": null,
   "id": "28a4751a",
   "metadata": {},
   "outputs": [],
   "source": []
  },
  {
   "cell_type": "code",
   "execution_count": null,
   "id": "59e8963b",
   "metadata": {},
   "outputs": [],
   "source": [
    "plt.figure(figsize=(20,10))\n",
    "c= df.corr()\n",
    "sns.heatmap(c,cmap=\"BrBG\",annot=True)"
   ]
  },
  {
   "cell_type": "code",
   "execution_count": null,
   "id": "32913b2f",
   "metadata": {},
   "outputs": [],
   "source": [
    "df2=df\n"
   ]
  },
  {
   "cell_type": "code",
   "execution_count": null,
   "id": "14696353",
   "metadata": {},
   "outputs": [],
   "source": [
    "df2['VALUE_numeric'] = df.loc[:, 'VALUE']\n"
   ]
  },
  {
   "cell_type": "code",
   "execution_count": null,
   "id": "70c2e63d",
   "metadata": {},
   "outputs": [],
   "source": [
    "df2.head"
   ]
  },
  {
   "cell_type": "code",
   "execution_count": null,
   "id": "efc8414e",
   "metadata": {},
   "outputs": [],
   "source": [
    "Filterflow = ['Emigrants: All destinations']\n",
    "\n",
    "df2 = df[df['FlowofPeople'].isin(Filterflow)]\n",
    "print(df2 )"
   ]
  },
  {
   "cell_type": "code",
   "execution_count": null,
   "id": "aebeb3f9",
   "metadata": {
    "scrolled": true
   },
   "outputs": [],
   "source": [
    "Filtersex = ['Male','Female']\n",
    "\n",
    "df2 = df2[df2['Sex'].isin(Filtersex)]\n",
    "print(df2)"
   ]
  },
  {
   "cell_type": "code",
   "execution_count": null,
   "id": "40b2c6d3",
   "metadata": {},
   "outputs": [],
   "source": [
    "df2.shape\n",
    "df2.head\n",
    "print(df.isnull().sum())"
   ]
  },
  {
   "cell_type": "markdown",
   "id": "9e2f8efb",
   "metadata": {},
   "source": [
    "# Machine learning part"
   ]
  },
  {
   "cell_type": "code",
   "execution_count": null,
   "id": "bfe7f1fd",
   "metadata": {},
   "outputs": [],
   "source": [
    "import matplotlib.pyplot as plt\n"
   ]
  },
  {
   "cell_type": "code",
   "execution_count": null,
   "id": "c86fdefa",
   "metadata": {},
   "outputs": [],
   "source": [
    "from sklearn.model_selection import train_test_split\n",
    "from sklearn import preprocessing\n",
    "from sklearn import tree"
   ]
  },
  {
   "cell_type": "code",
   "execution_count": null,
   "id": "6bd3d696",
   "metadata": {},
   "outputs": [],
   "source": [
    "dummy=pd.get_dummies(df2['VALUE'])"
   ]
  },
  {
   "cell_type": "code",
   "execution_count": null,
   "id": "1f32e7b0",
   "metadata": {},
   "outputs": [],
   "source": [
    "##split data "
   ]
  },
  {
   "cell_type": "code",
   "execution_count": null,
   "id": "b4d1938d",
   "metadata": {},
   "outputs": [],
   "source": [
    "###The value column is now Binary##\n",
    "df2.loc[df2['VALUE'] < 1, 'VALUE'] = 0\n",
    "df2.loc[df2['VALUE'] > 1, 'VALUE'] = 1"
   ]
  },
  {
   "cell_type": "code",
   "execution_count": null,
   "id": "9c367268",
   "metadata": {},
   "outputs": [],
   "source": [
    "###transform value in d2 to binary to use in tree model"
   ]
  },
  {
   "cell_type": "code",
   "execution_count": null,
   "id": "3bae6713",
   "metadata": {},
   "outputs": [],
   "source": [
    "# Initialize label encoder\n",
    "label_encoder = preprocessing.LabelEncoder()\n",
    "\n",
    "# Convert Sex variable to numeric\n",
    "encoded_sex = label_encoder.fit_transform(df2[\"Sex\"])##this is what will be predicted \n",
    "\n",
    "# Initialize model\n",
    "tree_model = tree.DecisionTreeClassifier()\n",
    "\n",
    "# Train the model\n",
    "tree_model.fit(X = pd.DataFrame(encoded_sex), \n",
    "               y = df2[\"VALUE\"])"
   ]
  },
  {
   "cell_type": "code",
   "execution_count": null,
   "id": "155e6ad8",
   "metadata": {},
   "outputs": [],
   "source": [
    "pip install graphviz"
   ]
  },
  {
   "cell_type": "code",
   "execution_count": null,
   "id": "1b3c21a3",
   "metadata": {},
   "outputs": [],
   "source": [
    "import graphviz"
   ]
  },
  {
   "cell_type": "code",
   "execution_count": null,
   "id": "b5202772",
   "metadata": {
    "scrolled": true
   },
   "outputs": [],
   "source": []
  },
  {
   "cell_type": "code",
   "execution_count": null,
   "id": "fd951910",
   "metadata": {},
   "outputs": [],
   "source": [
    "dot_data = tree.export_graphviz(tree_model, out_file=None) \n",
    "graph = graphviz.Source(dot_data)  \n",
    "graph "
   ]
  },
  {
   "cell_type": "code",
   "execution_count": 52,
   "id": "472a59c5",
   "metadata": {},
   "outputs": [
    {
     "ename": "NameError",
     "evalue": "name 'tree_model' is not defined",
     "output_type": "error",
     "traceback": [
      "\u001b[1;31m---------------------------------------------------------------------------\u001b[0m",
      "\u001b[1;31mNameError\u001b[0m                                 Traceback (most recent call last)",
      "Cell \u001b[1;32mIn[52], line 2\u001b[0m\n\u001b[0;32m      1\u001b[0m \u001b[38;5;66;03m# Get Emigration probability\u001b[39;00m\n\u001b[1;32m----> 2\u001b[0m preds \u001b[38;5;241m=\u001b[39m tree_model\u001b[38;5;241m.\u001b[39mpredict_proba(X \u001b[38;5;241m=\u001b[39m pd\u001b[38;5;241m.\u001b[39mDataFrame(encoded_sex))\n\u001b[0;32m      4\u001b[0m pd\u001b[38;5;241m.\u001b[39mcrosstab(preds[:,\u001b[38;5;241m0\u001b[39m], df2[\u001b[38;5;124m\"\u001b[39m\u001b[38;5;124mVALUE\u001b[39m\u001b[38;5;124m\"\u001b[39m])\n",
      "\u001b[1;31mNameError\u001b[0m: name 'tree_model' is not defined"
     ]
    }
   ],
   "source": [
    "# Get Emigration probability\n",
    "preds = tree_model.predict_proba(X = pd.DataFrame(encoded_sex))\n",
    "\n",
    "pd.crosstab(preds[:,0], df2[\"VALUE\"])\n"
   ]
  },
  {
   "cell_type": "code",
   "execution_count": null,
   "id": "d4a9e054",
   "metadata": {},
   "outputs": [],
   "source": [
    "df2 = df2.rename(columns={\"Age Group\": \"Age_Group\"})"
   ]
  },
  {
   "cell_type": "code",
   "execution_count": null,
   "id": "c5571865",
   "metadata": {},
   "outputs": [],
   "source": [
    "df2[\"Age_Group\"] = df2[\"Age_Group\"].apply(lambda x: float(x.split()[0].replace('-', 'to')))"
   ]
  },
  {
   "cell_type": "code",
   "execution_count": null,
   "id": "3db62997",
   "metadata": {},
   "outputs": [],
   "source": [
    "df2['Age_Group'] = df2.Age_Group.astype('category')"
   ]
  },
  {
   "cell_type": "code",
   "execution_count": null,
   "id": "59d4d2e7",
   "metadata": {},
   "outputs": [],
   "source": [
    "# Make data frame of predictors\n",
    "predictors = pd.DataFrame([encoded_sex, df2[\"Age_Group\"]]).T\n",
    "\n",
    "# Train the model\n",
    "tree_model.fit(X = predictors, \n",
    "               y = df2[\"VALUE\"])"
   ]
  },
  {
   "cell_type": "code",
   "execution_count": null,
   "id": "3777e8a7",
   "metadata": {},
   "outputs": [],
   "source": [
    "female = preds[df2[\"Sex\"] == \"female\"][0][1]\n",
    "male = preds[df2[\"Sex\"]==\"male\"][0][1]\n",
    "\n",
    "print(female)\n",
    "print(male)"
   ]
  },
  {
   "cell_type": "markdown",
   "id": "3d6cf3f4",
   "metadata": {},
   "source": [
    "# Statistics Part "
   ]
  }
 ],
 "metadata": {
  "kernelspec": {
   "display_name": "Python 3 (ipykernel)",
   "language": "python",
   "name": "python3"
  },
  "language_info": {
   "codemirror_mode": {
    "name": "ipython",
    "version": 3
   },
   "file_extension": ".py",
   "mimetype": "text/x-python",
   "name": "python",
   "nbconvert_exporter": "python",
   "pygments_lexer": "ipython3",
   "version": "3.11.4"
  }
 },
 "nbformat": 4,
 "nbformat_minor": 5
}
